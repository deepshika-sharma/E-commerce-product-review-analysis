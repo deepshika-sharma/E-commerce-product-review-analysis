{
 "cells": [
  {
   "cell_type": "code",
   "execution_count": 3,
   "id": "2538a04a-504d-4960-98e4-d12dc1db345b",
   "metadata": {},
   "outputs": [],
   "source": [
    "import pandas as pd\n",
    "import numpy as np\n",
    "from copy import deepcopy\n",
    "\n",
    "import sys\n",
    "sys.path.insert(1, '/Users/deepshika/Desktop/gitpros/projects/E-commerce-product-review-analysis/utils')\n",
    "from utils import utils\n",
    "rf = utils.review_feature()\n",
    "\n",
    "from pandas_profiling import ProfileReport\n",
    "# https://pypi.org/project/pandas-profiling/"
   ]
  },
  {
   "cell_type": "markdown",
   "id": "f324e4f6-5a5d-4866-b49c-4592fd34b918",
   "metadata": {},
   "source": [
    "# Feature Engineering\n",
    "\n",
    "Understanding how a review is classified as informative or not - sentimental analysis"
   ]
  },
  {
   "cell_type": "markdown",
   "id": "47e7518f-b841-4684-8ed0-98391e0eb078",
   "metadata": {},
   "source": [
    "# Feature Engineering\n",
    "### From these review text we wanted to extract relevance out of these, understanding in depth sense of reviews. \n",
    "\n",
    "#### Features extraction covers every necessary property/viewpoints and to measure features in a quantitative manner is a much-needed task in order to achieve highly accurate outcomes. Hence, this section discusses all the features extracted from reviews.\n",
    "\n",
    "1. Noun Strength (Rn): Nouns are subjects and considered as the most informative part of a language. The amount of subjects shows the importance of review because only a noun describes the prime factors of review (which tells us what the review is about). We did POS Tagging to find nouns in a review and computed score as:\n",
    "<br>Score(Rn) = TFIDF(noun) / TFIDF(all words)\n",
    "<br><br>\n",
    "2. Review Polarity (Rp): Its value lies between -1 to +1 which tells whether a review has positive sentiment or negative sentiment.\n",
    "<br><br>\n",
    "3. Review Subjectivity (Rs): The subjectivity is a measure of the sentiment being objective to subjective and goes from 0 to 1. Objective expressions are facts while Subjective expressions are opinions that describe a person’s feelings. Consider the following expression:\n",
    "<br>Bournvita tastes very good with milk: Subjective <br>\n",
    "Bournvita is brown in color: Objective\n",
    "<br><br>\n",
    "4. Review Complexity (Rc): To evaluate how good and complex a review is, in terms of unique words within a review and across entire review corpus of a particular product.\n",
    "Rc = Number of unique words in a Review / Number of unique words in entire Corpus\n",
    "<br><br>\n",
    "5. Review Word Length (Rw): Word count of a Review\n",
    "<br><br>\n",
    "6. Service Tagger (Rd): The best review is one that talks more about how is the product, how it tastes, what are its uses, and the one which talks about the effectiveness of a product. Reviews are basically to describe a product. So, a dictionary of words is created which would mark reviews as service-based, delivery reviews, and customer support.\n",
    "<br>Fuzzy matching of every word in a review is done with the words in the dictionary with Levenshtein distance. Levenshtein distance helps in measuring the difference between two sequences and tackle spell errors in review, for example, instead of “My delivery was on time”, Reviews is wrongly written as “My dilivery was on time”. In this case, Fuzzy matching would help us to match both the reviews.\n",
    "<br><br>\n",
    "7. Compound Score (Rsc): To improve the efficiency of the system. We compute the compound score using VaderSentimentAnalyser. This library is taken from VADER (Valence Aware Dictionary and sEntiment Reasoner). This is a lexicon and rule-based sentiment analysis tool that is specifically tuned to determine sentiments expressed in social media content. It has the ability to find the sentiment of Slang (e.g. SUX!), Emoji (😩, 😂), Emoticons ( :), :D ) and the difference between capitalized word expressions(I am SAD, I am sad are different expressions).\n",
    "<br>Rsc ≥ 0.5 (Positive Sentiment)\n",
    "<br>-0.5<Rsc<+0.5 (Neural Sentiment)\n",
    "<br>Rsc≤ -0.5 (Negative Sentiment)\n",
    "<br><br>\n",
    "Miscellaneous: We purposely did not include Reviews Rating as a feature. Inclusion of Ratings totally blunders the entire system because of two reasons:\n",
    "<br>1. Common confusion between Rating and Reviews. For example, someone who rates the product ‘1’ (On a rating scale of 1–5, ‘1’ being the ‘lowest’ and ‘5’ being the ‘highest’) writes the review comment as ‘very good and useful medicine’.\n",
    "<br>2. A large portion of Reviews from customers are either 5 stars or 1 star.\n",
    "\n",
    "TextBlob: https://textblob.readthedocs.io/en/dev/index.html <br>\n",
    "VaderSentiment: https://github.com/cjhutto/vaderSentiment <br>\n",
    "spaCy: https://spacy.io/ <br>\n",
    "\n",
    "\n",
    "![reviewfeature](./images/review-sentiment.jpg)"
   ]
  },
  {
   "cell_type": "code",
   "execution_count": null,
   "id": "a98c9502-ad53-43ba-a630-6bfd2e932dd5",
   "metadata": {},
   "outputs": [],
   "source": []
  }
 ],
 "metadata": {
  "kernelspec": {
   "display_name": "Python 3 (ipykernel)",
   "language": "python",
   "name": "python3"
  },
  "language_info": {
   "codemirror_mode": {
    "name": "ipython",
    "version": 3
   },
   "file_extension": ".py",
   "mimetype": "text/x-python",
   "name": "python",
   "nbconvert_exporter": "python",
   "pygments_lexer": "ipython3",
   "version": "3.9.12"
  }
 },
 "nbformat": 4,
 "nbformat_minor": 5
}
